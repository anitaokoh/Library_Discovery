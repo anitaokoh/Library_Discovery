{
 "cells": [
  {
   "cell_type": "markdown",
   "source": "# Using QuickDA",
   "metadata": {
    "tags": [],
    "is_collapsed": false,
    "cell_id": "00000-80be738a-b624-43ee-b9e9-1151dfec2e6a",
    "deepnote_cell_type": "text-cell-h1"
   }
  },
  {
   "cell_type": "code",
   "metadata": {
    "tags": [],
    "cell_id": "00000-467b78aa-f888-4984-9b24-0be6d9a326e0",
    "deepnote_to_be_reexecuted": false,
    "source_hash": "14359978",
    "execution_start": 1632583034272,
    "execution_millis": 824683,
    "deepnote_cell_type": "code"
   },
   "source": "# !pip install quickda",
   "outputs": [],
   "execution_count": 1
  },
  {
   "cell_type": "code",
   "metadata": {
    "tags": [],
    "cell_id": "00002-7ae3e171-7f92-4da8-9e58-e29d2a5d6706",
    "deepnote_to_be_reexecuted": false,
    "source_hash": "35447873",
    "execution_start": 1632583034586,
    "execution_millis": 4,
    "deepnote_cell_type": "code"
   },
   "source": "# !pip install faker==8.14.0",
   "outputs": [],
   "execution_count": 3
  },
  {
   "cell_type": "code",
   "metadata": {
    "tags": [],
    "cell_id": "00003-17ccf444-b58f-48a0-9007-f4b7ab393e78",
    "deepnote_to_be_reexecuted": false,
    "source_hash": "116706a5",
    "execution_start": 1632586572856,
    "execution_millis": 83,
    "allow_embed": "code_output",
    "deepnote_cell_type": "code"
   },
   "source": "#importing libraries\nfrom faker import Faker                \nimport numpy as np\nimport pandas as pd\nfrom quickda.explore_data import *\n\nnp.random.seed(42)\n\n\n\n#generating the data\nfake = Faker() \ndef create_data(x): \n  \n    # dictionary \n    generate_data ={} \n    for i in range(0, x): \n        generate_data[i]={} \n        generate_data[i]['name']= fake.name() \n        generate_data[i]['age']= np.random.randint(18,70) \n        generate_data[i]['city']= fake.city() \n        generate_data[i]['income']= np.random.randint(20000,1000000) \n\n    \n    return generate_data\n    \ngenerate = create_data(10)\ndata = pd.DataFrame.from_dict(generate).T\ndata= data.astype({'name':str, 'age': int, 'city': str, 'income':int})\n\n# checking the data distribution using Quickda\nexplore(data)",
   "outputs": [
    {
     "output_type": "execute_result",
     "execution_count": 26,
     "data": {
      "application/vnd.deepnote.dataframe.v2+json": {
       "row_count": 4,
       "column_count": 14,
       "columns": [
        {
         "name": "dtypes",
         "dtype": "object",
         "stats": {
          "unique_count": 2,
          "nan_count": 0,
          "categories": [
           {
            "name": "int64",
            "count": 2
           },
           {
            "name": "object",
            "count": 2
           }
          ]
         }
        },
        {
         "name": "count",
         "dtype": "int64",
         "stats": {
          "unique_count": 1,
          "nan_count": 0,
          "min": "10",
          "max": "10",
          "histogram": [
           {
            "bin_start": 9.5,
            "bin_end": 9.6,
            "count": 0
           },
           {
            "bin_start": 9.6,
            "bin_end": 9.7,
            "count": 0
           },
           {
            "bin_start": 9.7,
            "bin_end": 9.8,
            "count": 0
           },
           {
            "bin_start": 9.8,
            "bin_end": 9.9,
            "count": 0
           },
           {
            "bin_start": 9.9,
            "bin_end": 10,
            "count": 0
           },
           {
            "bin_start": 10,
            "bin_end": 10.1,
            "count": 4
           },
           {
            "bin_start": 10.1,
            "bin_end": 10.2,
            "count": 0
           },
           {
            "bin_start": 10.2,
            "bin_end": 10.3,
            "count": 0
           },
           {
            "bin_start": 10.3,
            "bin_end": 10.4,
            "count": 0
           },
           {
            "bin_start": 10.4,
            "bin_end": 10.5,
            "count": 0
           }
          ]
         }
        },
        {
         "name": "null_sum",
         "dtype": "int64",
         "stats": {
          "unique_count": 1,
          "nan_count": 0,
          "min": "0",
          "max": "0",
          "histogram": [
           {
            "bin_start": -0.5,
            "bin_end": -0.4,
            "count": 0
           },
           {
            "bin_start": -0.4,
            "bin_end": -0.3,
            "count": 0
           },
           {
            "bin_start": -0.3,
            "bin_end": -0.19999999999999996,
            "count": 0
           },
           {
            "bin_start": -0.19999999999999996,
            "bin_end": -0.09999999999999998,
            "count": 0
           },
           {
            "bin_start": -0.09999999999999998,
            "bin_end": 0,
            "count": 0
           },
           {
            "bin_start": 0,
            "bin_end": 0.10000000000000009,
            "count": 4
           },
           {
            "bin_start": 0.10000000000000009,
            "bin_end": 0.20000000000000007,
            "count": 0
           },
           {
            "bin_start": 0.20000000000000007,
            "bin_end": 0.30000000000000004,
            "count": 0
           },
           {
            "bin_start": 0.30000000000000004,
            "bin_end": 0.4,
            "count": 0
           },
           {
            "bin_start": 0.4,
            "bin_end": 0.5,
            "count": 0
           }
          ]
         }
        },
        {
         "name": "null_pct",
         "dtype": "float64",
         "stats": {
          "unique_count": 1,
          "nan_count": 0,
          "min": "0.0",
          "max": "0.0",
          "histogram": [
           {
            "bin_start": -0.5,
            "bin_end": -0.4,
            "count": 0
           },
           {
            "bin_start": -0.4,
            "bin_end": -0.3,
            "count": 0
           },
           {
            "bin_start": -0.3,
            "bin_end": -0.19999999999999996,
            "count": 0
           },
           {
            "bin_start": -0.19999999999999996,
            "bin_end": -0.09999999999999998,
            "count": 0
           },
           {
            "bin_start": -0.09999999999999998,
            "bin_end": 0,
            "count": 0
           },
           {
            "bin_start": 0,
            "bin_end": 0.10000000000000009,
            "count": 4
           },
           {
            "bin_start": 0.10000000000000009,
            "bin_end": 0.20000000000000007,
            "count": 0
           },
           {
            "bin_start": 0.20000000000000007,
            "bin_end": 0.30000000000000004,
            "count": 0
           },
           {
            "bin_start": 0.30000000000000004,
            "bin_end": 0.4,
            "count": 0
           },
           {
            "bin_start": 0.4,
            "bin_end": 0.5,
            "count": 0
           }
          ]
         }
        },
        {
         "name": "nunique",
         "dtype": "int64",
         "stats": {
          "unique_count": 2,
          "nan_count": 0,
          "min": "9",
          "max": "10",
          "histogram": [
           {
            "bin_start": 9,
            "bin_end": 9.1,
            "count": 1
           },
           {
            "bin_start": 9.1,
            "bin_end": 9.2,
            "count": 0
           },
           {
            "bin_start": 9.2,
            "bin_end": 9.3,
            "count": 0
           },
           {
            "bin_start": 9.3,
            "bin_end": 9.4,
            "count": 0
           },
           {
            "bin_start": 9.4,
            "bin_end": 9.5,
            "count": 0
           },
           {
            "bin_start": 9.5,
            "bin_end": 9.6,
            "count": 0
           },
           {
            "bin_start": 9.6,
            "bin_end": 9.7,
            "count": 0
           },
           {
            "bin_start": 9.7,
            "bin_end": 9.8,
            "count": 0
           },
           {
            "bin_start": 9.8,
            "bin_end": 9.9,
            "count": 0
           },
           {
            "bin_start": 9.9,
            "bin_end": 10,
            "count": 3
           }
          ]
         }
        },
        {
         "name": "min",
         "dtype": "object",
         "stats": {
          "unique_count": 4,
          "nan_count": 0,
          "categories": [
           {
            "name": "28",
            "count": 1
           },
           {
            "name": "East Kaitlynmouth",
            "count": 1
           },
           {
            "name": "2 others",
            "count": 2
           }
          ]
         }
        },
        {
         "name": "25%",
         "dtype": "object",
         "stats": {
          "unique_count": 3,
          "nan_count": 0,
          "categories": [
           {
            "name": "-",
            "count": 2
           },
           {
            "name": "38.25",
            "count": 1
           },
           {
            "name": "90489.5",
            "count": 1
           }
          ]
         }
        },
        {
         "name": "50%",
         "dtype": "object",
         "stats": {
          "unique_count": 3,
          "nan_count": 0,
          "categories": [
           {
            "name": "-",
            "count": 2
           },
           {
            "name": "41.0",
            "count": 1
           },
           {
            "name": "298586.5",
            "count": 1
           }
          ]
         }
        },
        {
         "name": "75%",
         "dtype": "object",
         "stats": {
          "unique_count": 3,
          "nan_count": 0,
          "categories": [
           {
            "name": "-",
            "count": 2
           },
           {
            "name": "51.25",
            "count": 1
           },
           {
            "name": "633482.75",
            "count": 1
           }
          ]
         }
        },
        {
         "name": "max",
         "dtype": "object",
         "stats": {
          "unique_count": 4,
          "nan_count": 0,
          "categories": [
           {
            "name": "60",
            "count": 1
           },
           {
            "name": "South Kevinfort",
            "count": 1
           },
           {
            "name": "2 others",
            "count": 2
           }
          ]
         }
        },
        {
         "name": "mean",
         "dtype": "object",
         "stats": {
          "unique_count": 3,
          "nan_count": 0,
          "categories": [
           {
            "name": "-",
            "count": 2
           },
           {
            "name": "43.8",
            "count": 1
           },
           {
            "name": "375497.5",
            "count": 1
           }
          ]
         }
        },
        {
         "name": "median",
         "dtype": "object",
         "stats": {
          "unique_count": 3,
          "nan_count": 0,
          "categories": [
           {
            "name": "-",
            "count": 2
           },
           {
            "name": "41.0",
            "count": 1
           },
           {
            "name": "298586.5",
            "count": 1
           }
          ]
         }
        },
        {
         "name": "std",
         "dtype": "object",
         "stats": {
          "unique_count": 3,
          "nan_count": 0,
          "categories": [
           {
            "name": "-",
            "count": 2
           },
           {
            "name": "9.908470001860922",
            "count": 1
           },
           {
            "name": "315107.2324104746",
            "count": 1
           }
          ]
         }
        },
        {
         "name": "skew",
         "dtype": "object",
         "stats": {
          "unique_count": 3,
          "nan_count": 0,
          "categories": [
           {
            "name": "-",
            "count": 2
           },
           {
            "name": "0.29814540286127195",
            "count": 1
           },
           {
            "name": "0.562198440835043",
            "count": 1
           }
          ]
         }
        },
        {
         "name": "_deepnote_index_column",
         "dtype": "object"
        }
       ],
       "rows_top": [
        {
         "dtypes": "int64",
         "count": 10,
         "null_sum": 0,
         "null_pct": 0,
         "nunique": 9,
         "min": "28",
         "25%": "38.25",
         "50%": "41.0",
         "75%": "51.25",
         "max": "60",
         "mean": "43.8",
         "median": "41.0",
         "std": "9.908470001860922",
         "skew": "0.29814540286127195",
         "_deepnote_index_column": "age"
        },
        {
         "dtypes": "object",
         "count": 10,
         "null_sum": 0,
         "null_pct": 0,
         "nunique": 10,
         "min": "East Kaitlynmouth",
         "25%": "-",
         "50%": "-",
         "75%": "-",
         "max": "South Kevinfort",
         "mean": "-",
         "median": "-",
         "std": "-",
         "skew": "-",
         "_deepnote_index_column": "city"
        },
        {
         "dtypes": "int64",
         "count": 10,
         "null_sum": 0,
         "null_pct": 0,
         "nunique": 10,
         "min": "61090",
         "25%": "90489.5",
         "50%": "298586.5",
         "75%": "633482.75",
         "max": "932756",
         "mean": "375497.5",
         "median": "298586.5",
         "std": "315107.2324104746",
         "skew": "0.562198440835043",
         "_deepnote_index_column": "income"
        },
        {
         "dtypes": "object",
         "count": 10,
         "null_sum": 0,
         "null_pct": 0,
         "nunique": 10,
         "min": "Anne Bryan",
         "25%": "-",
         "50%": "-",
         "75%": "-",
         "max": "Vicki Reed",
         "mean": "-",
         "median": "-",
         "std": "-",
         "skew": "-",
         "_deepnote_index_column": "name"
        }
       ],
       "rows_bottom": null
      },
      "text/plain": "        dtypes  count  null_sum  null_pct  nunique                min  \\\nage      int64     10         0       0.0        9                 28   \ncity    object     10         0       0.0       10  East Kaitlynmouth   \nincome   int64     10         0       0.0       10              61090   \nname    object     10         0       0.0       10         Anne Bryan   \n\n            25%       50%        75%              max      mean    median  \\\nage       38.25      41.0      51.25               60      43.8      41.0   \ncity          -         -          -  South Kevinfort         -         -   \nincome  90489.5  298586.5  633482.75           932756  375497.5  298586.5   \nname          -         -          -       Vicki Reed         -         -   \n\n                 std      skew  \nage          9.90847  0.298145  \ncity               -         -  \nincome  315107.23241  0.562198  \nname               -         -  ",
      "text/html": "<div>\n<style scoped>\n    .dataframe tbody tr th:only-of-type {\n        vertical-align: middle;\n    }\n\n    .dataframe tbody tr th {\n        vertical-align: top;\n    }\n\n    .dataframe thead th {\n        text-align: right;\n    }\n</style>\n<table border=\"1\" class=\"dataframe\">\n  <thead>\n    <tr style=\"text-align: right;\">\n      <th></th>\n      <th>dtypes</th>\n      <th>count</th>\n      <th>null_sum</th>\n      <th>null_pct</th>\n      <th>nunique</th>\n      <th>min</th>\n      <th>25%</th>\n      <th>50%</th>\n      <th>75%</th>\n      <th>max</th>\n      <th>mean</th>\n      <th>median</th>\n      <th>std</th>\n      <th>skew</th>\n    </tr>\n  </thead>\n  <tbody>\n    <tr>\n      <th>age</th>\n      <td>int64</td>\n      <td>10</td>\n      <td>0</td>\n      <td>0.0</td>\n      <td>9</td>\n      <td>28</td>\n      <td>38.25</td>\n      <td>41.0</td>\n      <td>51.25</td>\n      <td>60</td>\n      <td>43.8</td>\n      <td>41.0</td>\n      <td>9.90847</td>\n      <td>0.298145</td>\n    </tr>\n    <tr>\n      <th>city</th>\n      <td>object</td>\n      <td>10</td>\n      <td>0</td>\n      <td>0.0</td>\n      <td>10</td>\n      <td>East Kaitlynmouth</td>\n      <td>-</td>\n      <td>-</td>\n      <td>-</td>\n      <td>South Kevinfort</td>\n      <td>-</td>\n      <td>-</td>\n      <td>-</td>\n      <td>-</td>\n    </tr>\n    <tr>\n      <th>income</th>\n      <td>int64</td>\n      <td>10</td>\n      <td>0</td>\n      <td>0.0</td>\n      <td>10</td>\n      <td>61090</td>\n      <td>90489.5</td>\n      <td>298586.5</td>\n      <td>633482.75</td>\n      <td>932756</td>\n      <td>375497.5</td>\n      <td>298586.5</td>\n      <td>315107.23241</td>\n      <td>0.562198</td>\n    </tr>\n    <tr>\n      <th>name</th>\n      <td>object</td>\n      <td>10</td>\n      <td>0</td>\n      <td>0.0</td>\n      <td>10</td>\n      <td>Anne Bryan</td>\n      <td>-</td>\n      <td>-</td>\n      <td>-</td>\n      <td>Vicki Reed</td>\n      <td>-</td>\n      <td>-</td>\n      <td>-</td>\n      <td>-</td>\n    </tr>\n  </tbody>\n</table>\n</div>"
     },
     "metadata": {}
    }
   ],
   "execution_count": 26
  },
  {
   "cell_type": "code",
   "metadata": {
    "tags": [],
    "cell_id": "00007-a3b409f9-a38b-4798-847c-5e1ea64c2389",
    "deepnote_to_be_reexecuted": false,
    "source_hash": "4cc84ee3",
    "execution_start": 1632584197044,
    "execution_millis": 79,
    "allow_embed": "code_output",
    "deepnote_cell_type": "code"
   },
   "source": "# checking the data distribution\nexplore(data)",
   "outputs": [
    {
     "output_type": "execute_result",
     "execution_count": 21,
     "data": {
      "application/vnd.deepnote.dataframe.v2+json": {
       "row_count": 4,
       "column_count": 14,
       "columns": [
        {
         "name": "dtypes",
         "dtype": "object",
         "stats": {
          "unique_count": 2,
          "nan_count": 0,
          "categories": [
           {
            "name": "int64",
            "count": 2
           },
           {
            "name": "object",
            "count": 2
           }
          ]
         }
        },
        {
         "name": "count",
         "dtype": "int64",
         "stats": {
          "unique_count": 1,
          "nan_count": 0,
          "min": "10",
          "max": "10",
          "histogram": [
           {
            "bin_start": 9.5,
            "bin_end": 9.6,
            "count": 0
           },
           {
            "bin_start": 9.6,
            "bin_end": 9.7,
            "count": 0
           },
           {
            "bin_start": 9.7,
            "bin_end": 9.8,
            "count": 0
           },
           {
            "bin_start": 9.8,
            "bin_end": 9.9,
            "count": 0
           },
           {
            "bin_start": 9.9,
            "bin_end": 10,
            "count": 0
           },
           {
            "bin_start": 10,
            "bin_end": 10.1,
            "count": 4
           },
           {
            "bin_start": 10.1,
            "bin_end": 10.2,
            "count": 0
           },
           {
            "bin_start": 10.2,
            "bin_end": 10.3,
            "count": 0
           },
           {
            "bin_start": 10.3,
            "bin_end": 10.4,
            "count": 0
           },
           {
            "bin_start": 10.4,
            "bin_end": 10.5,
            "count": 0
           }
          ]
         }
        },
        {
         "name": "null_sum",
         "dtype": "int64",
         "stats": {
          "unique_count": 1,
          "nan_count": 0,
          "min": "0",
          "max": "0",
          "histogram": [
           {
            "bin_start": -0.5,
            "bin_end": -0.4,
            "count": 0
           },
           {
            "bin_start": -0.4,
            "bin_end": -0.3,
            "count": 0
           },
           {
            "bin_start": -0.3,
            "bin_end": -0.19999999999999996,
            "count": 0
           },
           {
            "bin_start": -0.19999999999999996,
            "bin_end": -0.09999999999999998,
            "count": 0
           },
           {
            "bin_start": -0.09999999999999998,
            "bin_end": 0,
            "count": 0
           },
           {
            "bin_start": 0,
            "bin_end": 0.10000000000000009,
            "count": 4
           },
           {
            "bin_start": 0.10000000000000009,
            "bin_end": 0.20000000000000007,
            "count": 0
           },
           {
            "bin_start": 0.20000000000000007,
            "bin_end": 0.30000000000000004,
            "count": 0
           },
           {
            "bin_start": 0.30000000000000004,
            "bin_end": 0.4,
            "count": 0
           },
           {
            "bin_start": 0.4,
            "bin_end": 0.5,
            "count": 0
           }
          ]
         }
        },
        {
         "name": "null_pct",
         "dtype": "float64",
         "stats": {
          "unique_count": 1,
          "nan_count": 0,
          "min": "0.0",
          "max": "0.0",
          "histogram": [
           {
            "bin_start": -0.5,
            "bin_end": -0.4,
            "count": 0
           },
           {
            "bin_start": -0.4,
            "bin_end": -0.3,
            "count": 0
           },
           {
            "bin_start": -0.3,
            "bin_end": -0.19999999999999996,
            "count": 0
           },
           {
            "bin_start": -0.19999999999999996,
            "bin_end": -0.09999999999999998,
            "count": 0
           },
           {
            "bin_start": -0.09999999999999998,
            "bin_end": 0,
            "count": 0
           },
           {
            "bin_start": 0,
            "bin_end": 0.10000000000000009,
            "count": 4
           },
           {
            "bin_start": 0.10000000000000009,
            "bin_end": 0.20000000000000007,
            "count": 0
           },
           {
            "bin_start": 0.20000000000000007,
            "bin_end": 0.30000000000000004,
            "count": 0
           },
           {
            "bin_start": 0.30000000000000004,
            "bin_end": 0.4,
            "count": 0
           },
           {
            "bin_start": 0.4,
            "bin_end": 0.5,
            "count": 0
           }
          ]
         }
        },
        {
         "name": "nunique",
         "dtype": "int64",
         "stats": {
          "unique_count": 1,
          "nan_count": 0,
          "min": "10",
          "max": "10",
          "histogram": [
           {
            "bin_start": 9.5,
            "bin_end": 9.6,
            "count": 0
           },
           {
            "bin_start": 9.6,
            "bin_end": 9.7,
            "count": 0
           },
           {
            "bin_start": 9.7,
            "bin_end": 9.8,
            "count": 0
           },
           {
            "bin_start": 9.8,
            "bin_end": 9.9,
            "count": 0
           },
           {
            "bin_start": 9.9,
            "bin_end": 10,
            "count": 0
           },
           {
            "bin_start": 10,
            "bin_end": 10.1,
            "count": 4
           },
           {
            "bin_start": 10.1,
            "bin_end": 10.2,
            "count": 0
           },
           {
            "bin_start": 10.2,
            "bin_end": 10.3,
            "count": 0
           },
           {
            "bin_start": 10.3,
            "bin_end": 10.4,
            "count": 0
           },
           {
            "bin_start": 10.4,
            "bin_end": 10.5,
            "count": 0
           }
          ]
         }
        },
        {
         "name": "min",
         "dtype": "object",
         "stats": {
          "unique_count": 4,
          "nan_count": 0,
          "categories": [
           {
            "name": "23",
            "count": 1
           },
           {
            "name": "Brendaberg",
            "count": 1
           },
           {
            "name": "2 others",
            "count": 2
           }
          ]
         }
        },
        {
         "name": "25%",
         "dtype": "object",
         "stats": {
          "unique_count": 3,
          "nan_count": 0,
          "categories": [
           {
            "name": "-",
            "count": 2
           },
           {
            "name": "32.0",
            "count": 1
           },
           {
            "name": "276306.0",
            "count": 1
           }
          ]
         }
        },
        {
         "name": "50%",
         "dtype": "object",
         "stats": {
          "unique_count": 3,
          "nan_count": 0,
          "categories": [
           {
            "name": "-",
            "count": 2
           },
           {
            "name": "36.5",
            "count": 1
           },
           {
            "name": "330939.0",
            "count": 1
           }
          ]
         }
        },
        {
         "name": "75%",
         "dtype": "object",
         "stats": {
          "unique_count": 3,
          "nan_count": 0,
          "categories": [
           {
            "name": "-",
            "count": 2
           },
           {
            "name": "53.5",
            "count": 1
           },
           {
            "name": "463781.5",
            "count": 1
           }
          ]
         }
        },
        {
         "name": "max",
         "dtype": "object",
         "stats": {
          "unique_count": 4,
          "nan_count": 0,
          "categories": [
           {
            "name": "69",
            "count": 1
           },
           {
            "name": "Woodstown",
            "count": 1
           },
           {
            "name": "2 others",
            "count": 2
           }
          ]
         }
        },
        {
         "name": "mean",
         "dtype": "object",
         "stats": {
          "unique_count": 3,
          "nan_count": 0,
          "categories": [
           {
            "name": "-",
            "count": 2
           },
           {
            "name": "42.6",
            "count": 1
           },
           {
            "name": "400450.0",
            "count": 1
           }
          ]
         }
        },
        {
         "name": "median",
         "dtype": "object",
         "stats": {
          "unique_count": 3,
          "nan_count": 0,
          "categories": [
           {
            "name": "-",
            "count": 2
           },
           {
            "name": "36.5",
            "count": 1
           },
           {
            "name": "330939.0",
            "count": 1
           }
          ]
         }
        },
        {
         "name": "std",
         "dtype": "object",
         "stats": {
          "unique_count": 3,
          "nan_count": 0,
          "categories": [
           {
            "name": "-",
            "count": 2
           },
           {
            "name": "15.108496505829647",
            "count": 1
           },
           {
            "name": "187676.32353958057",
            "count": 1
           }
          ]
         }
        },
        {
         "name": "skew",
         "dtype": "object",
         "stats": {
          "unique_count": 3,
          "nan_count": 0,
          "categories": [
           {
            "name": "-",
            "count": 2
           },
           {
            "name": "0.5425418617442891",
            "count": 1
           },
           {
            "name": "1.2609178021870706",
            "count": 1
           }
          ]
         }
        },
        {
         "name": "_deepnote_index_column",
         "dtype": "object"
        }
       ],
       "rows_top": [
        {
         "dtypes": "int64",
         "count": 10,
         "null_sum": 0,
         "null_pct": 0,
         "nunique": 10,
         "min": "23",
         "25%": "32.0",
         "50%": "36.5",
         "75%": "53.5",
         "max": "69",
         "mean": "42.6",
         "median": "36.5",
         "std": "15.108496505829647",
         "skew": "0.5425418617442891",
         "_deepnote_index_column": "age"
        },
        {
         "dtypes": "object",
         "count": 10,
         "null_sum": 0,
         "null_pct": 0,
         "nunique": 10,
         "min": "Brendaberg",
         "25%": "-",
         "50%": "-",
         "75%": "-",
         "max": "Woodstown",
         "mean": "-",
         "median": "-",
         "std": "-",
         "skew": "-",
         "_deepnote_index_column": "city"
        },
        {
         "dtypes": "int64",
         "count": 10,
         "null_sum": 0,
         "null_pct": 0,
         "nunique": 10,
         "min": "221400",
         "25%": "276306.0",
         "50%": "330939.0",
         "75%": "463781.5",
         "max": "790221",
         "mean": "400450.0",
         "median": "330939.0",
         "std": "187676.32353958057",
         "skew": "1.2609178021870706",
         "_deepnote_index_column": "income"
        },
        {
         "dtypes": "object",
         "count": 10,
         "null_sum": 0,
         "null_pct": 0,
         "nunique": 10,
         "min": "Colin Watson",
         "25%": "-",
         "50%": "-",
         "75%": "-",
         "max": "Tonya Robertson",
         "mean": "-",
         "median": "-",
         "std": "-",
         "skew": "-",
         "_deepnote_index_column": "name"
        }
       ],
       "rows_bottom": null
      },
      "text/plain": "        dtypes  count  null_sum  null_pct  nunique           min       25%  \\\nage      int64     10         0       0.0       10            23      32.0   \ncity    object     10         0       0.0       10    Brendaberg         -   \nincome   int64     10         0       0.0       10        221400  276306.0   \nname    object     10         0       0.0       10  Colin Watson         -   \n\n             50%       75%              max      mean    median           std  \\\nage         36.5      53.5               69      42.6      36.5     15.108497   \ncity           -         -        Woodstown         -         -             -   \nincome  330939.0  463781.5           790221  400450.0  330939.0  187676.32354   \nname           -         -  Tonya Robertson         -         -             -   \n\n            skew  \nage     0.542542  \ncity           -  \nincome  1.260918  \nname           -  ",
      "text/html": "<div>\n<style scoped>\n    .dataframe tbody tr th:only-of-type {\n        vertical-align: middle;\n    }\n\n    .dataframe tbody tr th {\n        vertical-align: top;\n    }\n\n    .dataframe thead th {\n        text-align: right;\n    }\n</style>\n<table border=\"1\" class=\"dataframe\">\n  <thead>\n    <tr style=\"text-align: right;\">\n      <th></th>\n      <th>dtypes</th>\n      <th>count</th>\n      <th>null_sum</th>\n      <th>null_pct</th>\n      <th>nunique</th>\n      <th>min</th>\n      <th>25%</th>\n      <th>50%</th>\n      <th>75%</th>\n      <th>max</th>\n      <th>mean</th>\n      <th>median</th>\n      <th>std</th>\n      <th>skew</th>\n    </tr>\n  </thead>\n  <tbody>\n    <tr>\n      <th>age</th>\n      <td>int64</td>\n      <td>10</td>\n      <td>0</td>\n      <td>0.0</td>\n      <td>10</td>\n      <td>23</td>\n      <td>32.0</td>\n      <td>36.5</td>\n      <td>53.5</td>\n      <td>69</td>\n      <td>42.6</td>\n      <td>36.5</td>\n      <td>15.108497</td>\n      <td>0.542542</td>\n    </tr>\n    <tr>\n      <th>city</th>\n      <td>object</td>\n      <td>10</td>\n      <td>0</td>\n      <td>0.0</td>\n      <td>10</td>\n      <td>Brendaberg</td>\n      <td>-</td>\n      <td>-</td>\n      <td>-</td>\n      <td>Woodstown</td>\n      <td>-</td>\n      <td>-</td>\n      <td>-</td>\n      <td>-</td>\n    </tr>\n    <tr>\n      <th>income</th>\n      <td>int64</td>\n      <td>10</td>\n      <td>0</td>\n      <td>0.0</td>\n      <td>10</td>\n      <td>221400</td>\n      <td>276306.0</td>\n      <td>330939.0</td>\n      <td>463781.5</td>\n      <td>790221</td>\n      <td>400450.0</td>\n      <td>330939.0</td>\n      <td>187676.32354</td>\n      <td>1.260918</td>\n    </tr>\n    <tr>\n      <th>name</th>\n      <td>object</td>\n      <td>10</td>\n      <td>0</td>\n      <td>0.0</td>\n      <td>10</td>\n      <td>Colin Watson</td>\n      <td>-</td>\n      <td>-</td>\n      <td>-</td>\n      <td>Tonya Robertson</td>\n      <td>-</td>\n      <td>-</td>\n      <td>-</td>\n      <td>-</td>\n    </tr>\n  </tbody>\n</table>\n</div>"
     },
     "metadata": {}
    }
   ],
   "execution_count": 21
  },
  {
   "cell_type": "markdown",
   "source": "[Link to article](https://allaboutdatascience.hashnode.dev/understanding-the-data-distribution-quickly)",
   "metadata": {
    "tags": [],
    "cell_id": "00004-ad988b62-7859-4c3d-aa05-98118750ad49",
    "deepnote_cell_type": "markdown"
   }
  },
  {
   "cell_type": "code",
   "metadata": {
    "tags": [],
    "cell_id": "00009-63bff3d8-c381-4050-8e71-43ba4c743594",
    "deepnote_cell_type": "code"
   },
   "source": "",
   "outputs": [],
   "execution_count": null
  },
  {
   "cell_type": "markdown",
   "source": "<a style='text-decoration:none;line-height:16px;display:flex;color:#5B5B62;padding:10px;justify-content:end;' href='https://deepnote.com?utm_source=created-in-deepnote-cell&projectId=5e1f432d-be18-453f-920a-d294f9b1119e' target=\"_blank\">\n<img alt='Created in deepnote.com' style='display:inline;max-height:16px;margin:0px;margin-right:7.5px;' src='data:image/svg+xml;base64,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' > </img>\nCreated in <span style='font-weight:600;margin-left:4px;'>Deepnote</span></a>",
   "metadata": {
    "tags": [],
    "created_in_deepnote_cell": true,
    "deepnote_cell_type": "markdown"
   }
  }
 ],
 "nbformat": 4,
 "nbformat_minor": 2,
 "metadata": {
  "orig_nbformat": 2,
  "deepnote": {
   "is_reactive": false
  },
  "deepnote_notebook_id": "5d8e33b8-7fd0-4b10-980a-4bfacf32a8a9",
  "deepnote_execution_queue": []
 }
}